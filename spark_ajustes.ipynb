{
 "cells": [
  {
   "cell_type": "code",
   "execution_count": 18,
   "metadata": {},
   "outputs": [],
   "source": [
    "import findspark\n",
    "findspark.init()"
   ]
  },
  {
   "cell_type": "code",
   "execution_count": 19,
   "metadata": {},
   "outputs": [
    {
     "data": {
      "text/plain": [
       "dict"
      ]
     },
     "execution_count": 19,
     "metadata": {},
     "output_type": "execute_result"
    }
   ],
   "source": [
    "jsonDataDict = {\"job_id\":33100,\"run_id\":1048560,\"number_in_job\":1,\"state\":{\"life_cycle_state\":\"PENDING\",\"state_message\":\"Waiting for cluster\"},\"task\":{\"notebook_task\":{\"notebook_path\":\"/Users/user@databricks.com/path/test_notebook\"}},\"cluster_spec\":{\"new_cluster\":{\"spark_version\":\"4.3.x-scala2.11\",\"attributes\":{\"type\":\"fixed_node\",\"memory\":\"8g\"},\"enable_elastic_disk\":\"false\",\"num_workers\":1}},\"cluster_instance\":{\"cluster_id\":\"0000-000000-wares10\"},\"start_time\":1584689872601,\"setup_duration\":0,\"execution_duration\":0,\"cleanup_duration\":0,\"creator_user_name\":\"user@databricks.com\",\"run_name\":\"my test job\",\"run_page_url\":\"https://testurl.databricks.com#job/33100/run/1\",\"run_type\":\"SUBMIT_RUN\"}\n",
    "\n",
    "type(jsonDataDict)"
   ]
  },
  {
   "cell_type": "code",
   "execution_count": 20,
   "metadata": {},
   "outputs": [],
   "source": [
    "import json\n",
    "\n",
    "jsonData = json.dumps(jsonDataDict)\n",
    "\n",
    "\n",
    "jsonDataList = []\n",
    "jsonDataList.append(jsonData)"
   ]
  },
  {
   "cell_type": "code",
   "execution_count": 21,
   "metadata": {},
   "outputs": [
    {
     "data": {
      "text/plain": [
       "['{\"job_id\": 33100, \"run_id\": 1048560, \"number_in_job\": 1, \"state\": {\"life_cycle_state\": \"PENDING\", \"state_message\": \"Waiting for cluster\"}, \"task\": {\"notebook_task\": {\"notebook_path\": \"/Users/user@databricks.com/path/test_notebook\"}}, \"cluster_spec\": {\"new_cluster\": {\"spark_version\": \"4.3.x-scala2.11\", \"attributes\": {\"type\": \"fixed_node\", \"memory\": \"8g\"}, \"enable_elastic_disk\": \"false\", \"num_workers\": 1}}, \"cluster_instance\": {\"cluster_id\": \"0000-000000-wares10\"}, \"start_time\": 1584689872601, \"setup_duration\": 0, \"execution_duration\": 0, \"cleanup_duration\": 0, \"creator_user_name\": \"user@databricks.com\", \"run_name\": \"my test job\", \"run_page_url\": \"https://testurl.databricks.com#job/33100/run/1\", \"run_type\": \"SUBMIT_RUN\"}']"
      ]
     },
     "execution_count": 21,
     "metadata": {},
     "output_type": "execute_result"
    }
   ],
   "source": [
    "jsonDataList\n"
   ]
  },
  {
   "cell_type": "code",
   "execution_count": 246,
   "metadata": {},
   "outputs": [],
   "source": [
    "import pyspark\n",
    "from pyspark.sql import SparkSession\n",
    "from pyspark import SparkContext\n",
    "from pyspark.sql.types import *\n",
    "from pyspark.sql.types import IntegerType, DoubleType, StringType"
   ]
  },
  {
   "cell_type": "code",
   "execution_count": 247,
   "metadata": {},
   "outputs": [],
   "source": [
    "spark = SparkSession.builder\\\n",
    "             .master(\"local[1]\")\\\n",
    "             .appName(\"myapp.com\")\\\n",
    "             .getOrCreate()\n",
    "\n"
   ]
  },
  {
   "cell_type": "code",
   "execution_count": 248,
   "metadata": {},
   "outputs": [],
   "source": [
    "sc = SparkContext.getOrCreate()"
   ]
  },
  {
   "cell_type": "code",
   "execution_count": 158,
   "metadata": {},
   "outputs": [
    {
     "data": {
      "text/plain": [
       "StructType([StructField('{', StringType(), True)])"
      ]
     },
     "execution_count": 158,
     "metadata": {},
     "output_type": "execute_result"
    }
   ],
   "source": [
    "\n",
    "\n",
    "def strToType(str):\n",
    "  if str == 'int':\n",
    "    return IntegerType()\n",
    "  elif str == 'double':\n",
    "    return DoubleType()\n",
    "  else:\n",
    "    return StringType()\n",
    "\n",
    "\n",
    "dicts = json.loads(jsonData)\n",
    "\n",
    "jsonRDD = sc.parallelize(jsonDataList)\n",
    "listas = jsonRDD.collect()\n",
    "\n",
    "\n",
    "schema = StructType(\n",
    "    [StructField(t[1], strToType(t[1]), True) for t in listas]\n",
    ")\n",
    "\n",
    "schema"
   ]
  },
  {
   "cell_type": "code",
   "execution_count": 249,
   "metadata": {},
   "outputs": [],
   "source": [
    "\n",
    "def strToType(str):\n",
    " \n",
    "  if str == 'int':\n",
    "    return IntegerType()\n",
    "  elif str == 'double':\n",
    "    return DoubleType()\n",
    "\n",
    " \n",
    "  else:\n",
    "    return StringType()\n",
    " \n",
    "#https://hackersandslackers.com/working-with-pyspark-rdds/"
   ]
  },
  {
   "cell_type": "code",
   "execution_count": 254,
   "metadata": {},
   "outputs": [
    {
     "ename": "TypeError",
     "evalue": "strToType() takes 1 positional argument but 2 were given",
     "output_type": "error",
     "traceback": [
      "\u001b[1;31m---------------------------------------------------------------------------\u001b[0m",
      "\u001b[1;31mTypeError\u001b[0m                                 Traceback (most recent call last)",
      "Cell \u001b[1;32mIn [254], line 9\u001b[0m\n\u001b[0;32m      3\u001b[0m item \u001b[39m=\u001b[39m [item\u001b[39m.\u001b[39msplit(\u001b[39m\"\u001b[39m\u001b[39m:\u001b[39m\u001b[39m\"\u001b[39m) \u001b[39mfor\u001b[39;00m item \u001b[39min\u001b[39;00m listas]\n\u001b[0;32m      6\u001b[0m listas \u001b[39m=\u001b[39m json\u001b[39m.\u001b[39mloads(listas[\u001b[39m0\u001b[39m])\n\u001b[0;32m      8\u001b[0m schema \u001b[39m=\u001b[39m StructType(\n\u001b[1;32m----> 9\u001b[0m     [StructField([x\u001b[39m.\u001b[39msplit(\u001b[39m\"\u001b[39m\u001b[39m:\u001b[39m\u001b[39m\"\u001b[39m)[\u001b[39m0\u001b[39m] \u001b[39mif\u001b[39;00m \u001b[39m\"\u001b[39m\u001b[39m:\u001b[39m\u001b[39m\"\u001b[39m \u001b[39min\u001b[39;00m strToType(x,\u001b[39mTrue\u001b[39;00m) \u001b[39melse\u001b[39;00m x \u001b[39mfor\u001b[39;00m x \u001b[39min\u001b[39;00m listas])]\n\u001b[0;32m     10\u001b[0m )\n",
      "Cell \u001b[1;32mIn [254], line 9\u001b[0m, in \u001b[0;36m<listcomp>\u001b[1;34m(.0)\u001b[0m\n\u001b[0;32m      3\u001b[0m item \u001b[39m=\u001b[39m [item\u001b[39m.\u001b[39msplit(\u001b[39m\"\u001b[39m\u001b[39m:\u001b[39m\u001b[39m\"\u001b[39m) \u001b[39mfor\u001b[39;00m item \u001b[39min\u001b[39;00m listas]\n\u001b[0;32m      6\u001b[0m listas \u001b[39m=\u001b[39m json\u001b[39m.\u001b[39mloads(listas[\u001b[39m0\u001b[39m])\n\u001b[0;32m      8\u001b[0m schema \u001b[39m=\u001b[39m StructType(\n\u001b[1;32m----> 9\u001b[0m     [StructField([x\u001b[39m.\u001b[39msplit(\u001b[39m\"\u001b[39m\u001b[39m:\u001b[39m\u001b[39m\"\u001b[39m)[\u001b[39m0\u001b[39m] \u001b[39mif\u001b[39;00m \u001b[39m\"\u001b[39m\u001b[39m:\u001b[39m\u001b[39m\"\u001b[39m \u001b[39min\u001b[39;00m strToType(x,\u001b[39mTrue\u001b[39;49;00m) \u001b[39melse\u001b[39;00m x \u001b[39mfor\u001b[39;00m x \u001b[39min\u001b[39;00m listas])]\n\u001b[0;32m     10\u001b[0m )\n",
      "\u001b[1;31mTypeError\u001b[0m: strToType() takes 1 positional argument but 2 were given"
     ]
    }
   ],
   "source": [
    "\n",
    "listas = jsonRDD.collect()\n",
    "\n",
    "item = [item.split(\":\") for item in listas]\n",
    "\n",
    "\n",
    "listas = json.loads(listas[0])\n",
    "\n",
    "schema = StructType(\n",
    "    [StructField([x.split(\":\")[0] if \":\" in strToType(x) else x for x in listas])]\n",
    ")\n"
   ]
  },
  {
   "cell_type": "code",
   "execution_count": null,
   "metadata": {},
   "outputs": [],
   "source": [
    "#https://hackersandslackers.com/working-with-pyspark-rdds/"
   ]
  },
  {
   "cell_type": "code",
   "execution_count": null,
   "metadata": {},
   "outputs": [],
   "source": [
    "\n",
    "#a_cMap = [(k,)+(v,) for k,v in dicts.items()] \n",
    "\n",
    "\n",
    "\n",
    "\n",
    "#data = spark.createDataFrame(a_cMap, ['key','val'],schema= None)\n"
   ]
  },
  {
   "cell_type": "markdown",
   "metadata": {},
   "source": []
  },
  {
   "cell_type": "code",
   "execution_count": null,
   "metadata": {},
   "outputs": [],
   "source": [
    "\n"
   ]
  }
 ],
 "metadata": {
  "kernelspec": {
   "display_name": "Python 3.10.7 ('venv': venv)",
   "language": "python",
   "name": "python3"
  },
  "language_info": {
   "codemirror_mode": {
    "name": "ipython",
    "version": 3
   },
   "file_extension": ".py",
   "mimetype": "text/x-python",
   "name": "python",
   "nbconvert_exporter": "python",
   "pygments_lexer": "ipython3",
   "version": "3.10.7"
  },
  "orig_nbformat": 4,
  "vscode": {
   "interpreter": {
    "hash": "f36beeddfedf282be5d888f03b9ee18eb665a86d9c86ca9290e7ced70b1bc0b6"
   }
  }
 },
 "nbformat": 4,
 "nbformat_minor": 2
}
